{
 "cells": [
  {
   "cell_type": "code",
   "execution_count": 2036,
   "source": [
    "import seaborn as sns\n",
    "import pandas as pd\n",
    "import numpy as np\n",
    "\n",
    "import matplotlib.pyplot as plt\n",
    "\n",
    "from PIL import Image\n",
    "\n",
    "from sklearn.preprocessing import StandardScaler\n",
    "from sklearn.cluster import DBSCAN\n",
    "from umap import UMAP \n",
    "\n",
    "from scipy.spatial import distance_matrix\n",
    "\n",
    "import cv2"
   ],
   "outputs": [],
   "metadata": {}
  },
  {
   "cell_type": "markdown",
   "source": [
    "## Picture"
   ],
   "metadata": {}
  },
  {
   "cell_type": "code",
   "execution_count": 2037,
   "source": [
    "num = 8\n",
    "\n",
    "PIC_NAME = f'../pics/image{num}.png'\n",
    "OUT_NAME = f'../out/image{num}_test.png'"
   ],
   "outputs": [],
   "metadata": {}
  },
  {
   "cell_type": "markdown",
   "source": [
    "# Step 0: Image preprocessing"
   ],
   "metadata": {}
  },
  {
   "cell_type": "markdown",
   "source": [
    "## Stage 1: Creation binary grayscaled image"
   ],
   "metadata": {}
  },
  {
   "cell_type": "code",
   "execution_count": 2038,
   "source": [
    "def black(img, threshold):\n",
    "    img[img >= threshold] = 255\n",
    "    img[img < threshold] = 0\n",
    "    return img \n",
    "\n",
    "def inverse(img):\n",
    "    return 255 - img"
   ],
   "outputs": [],
   "metadata": {}
  },
  {
   "cell_type": "code",
   "execution_count": 2039,
   "source": [
    "img = cv2.imread(PIC_NAME, 0)\n",
    "\n",
    "original_img = img.copy()\n",
    "\n",
    "img = inverse(img)\n",
    "black(img, 20)"
   ],
   "outputs": [
    {
     "output_type": "execute_result",
     "data": {
      "text/plain": [
       "array([[0, 0, 0, ..., 0, 0, 0],\n",
       "       [0, 0, 0, ..., 0, 0, 0],\n",
       "       [0, 0, 0, ..., 0, 0, 0],\n",
       "       ...,\n",
       "       [0, 0, 0, ..., 0, 0, 0],\n",
       "       [0, 0, 0, ..., 0, 0, 0],\n",
       "       [0, 0, 0, ..., 0, 0, 0]], dtype=uint8)"
      ]
     },
     "metadata": {},
     "execution_count": 2039
    }
   ],
   "metadata": {}
  },
  {
   "cell_type": "markdown",
   "source": [
    "# Step 1: Word detection"
   ],
   "metadata": {}
  },
  {
   "cell_type": "markdown",
   "source": [
    "## Stage 1: Tesseract character metainfo fetching "
   ],
   "metadata": {}
  },
  {
   "cell_type": "code",
   "execution_count": 2040,
   "source": [
    "import pytesseract"
   ],
   "outputs": [],
   "metadata": {}
  },
  {
   "cell_type": "code",
   "execution_count": 2041,
   "source": [
    "raws = pytesseract.image_to_boxes(cv2.imread(PIC_NAME)).split('\\n')[:-1]\n",
    "matrix = [[int(el) for el in raw.split(' ')[1:-1]] for raw in raws]"
   ],
   "outputs": [],
   "metadata": {}
  },
  {
   "cell_type": "code",
   "execution_count": 2042,
   "source": [
    "metainfo = (pd.DataFrame(np.array(matrix)).rename({\n",
    "    0: 'x1',\n",
    "    1: 'y1',\n",
    "    2: 'x2',\n",
    "    3: 'y2' \n",
    "    }, axis=1)\n",
    "    .astype({\n",
    "            'x1': int,\n",
    "            'x2': int,\n",
    "            'y1': int,\n",
    "            'y2': int,\n",
    "    }))"
   ],
   "outputs": [],
   "metadata": {}
  },
  {
   "cell_type": "code",
   "execution_count": 2043,
   "source": [
    "metainfo['x_centroid'] = metainfo['x1'] + (metainfo['x2'] - metainfo['x1'] /2)\n",
    "metainfo['y_centroid'] = metainfo['y1'] + (metainfo['y2'] - metainfo['y1'] /2)\n",
    "metainfo['zero'] = 0\n",
    "metainfo['char_shape'] = abs(metainfo['y2'] - metainfo['y1']) * abs(metainfo['x2'] - metainfo['x1'])\n",
    "metainfo['width'] = abs(metainfo['x1'] - metainfo['x2'])\n",
    "metainfo['height'] = abs(metainfo['y1'] - metainfo['y2'])"
   ],
   "outputs": [],
   "metadata": {}
  },
  {
   "cell_type": "code",
   "execution_count": 2044,
   "source": [
    "width = metainfo.width.mean()\n",
    "height = metainfo.height.mean()\n",
    "\n",
    "area = width * height\n",
    "\n",
    "print((width, height))"
   ],
   "outputs": [
    {
     "output_type": "stream",
     "name": "stdout",
     "text": [
      "(9.372661122661123, 12.18866943866944)\n"
     ]
    }
   ],
   "metadata": {}
  },
  {
   "cell_type": "code",
   "execution_count": 2045,
   "source": [
    "def paragraph_kernel_selection(width, height):\n",
    "    mean = min(width, height)\n",
    "\n",
    "    floor  = np.floor(mean)\n",
    "    odd_floor = floor if floor % 2 == 1 else floor - 1\n",
    "\n",
    "    ceil  = np.ceil(mean)\n",
    "    odd_ceil = ceil if ceil % 2 == 1 else ceil + 1\n",
    "\n",
    "    _kernel_dim =  np.uint8(odd_floor) if abs(mean - odd_floor) < abs(mean - odd_ceil) else np.uint8(odd_ceil)\n",
    "    _kernel_dim = _kernel_dim - 2 if _kernel_dim >= 9 else _kernel_dim\n",
    "\n",
    "    return np.ones((_kernel_dim, _kernel_dim), np.uint8)"
   ],
   "outputs": [],
   "metadata": {}
  },
  {
   "cell_type": "markdown",
   "source": [
    "## Stage 2: smoothing paragraphs"
   ],
   "metadata": {}
  },
  {
   "cell_type": "code",
   "execution_count": 2046,
   "source": [
    "dst = cv2.filter2D(\n",
    "    img,\n",
    "    -1, \n",
    "    paragraph_kernel_selection(width, height)\n",
    ")\n",
    "dst = cv2.erode(dst, np.ones((3,3), np.uint8),iterations = 1)\n",
    "\n",
    "\n",
    "black(dst, 200)"
   ],
   "outputs": [
    {
     "output_type": "execute_result",
     "data": {
      "text/plain": [
       "array([[0, 0, 0, ..., 0, 0, 0],\n",
       "       [0, 0, 0, ..., 0, 0, 0],\n",
       "       [0, 0, 0, ..., 0, 0, 0],\n",
       "       ...,\n",
       "       [0, 0, 0, ..., 0, 0, 0],\n",
       "       [0, 0, 0, ..., 0, 0, 0],\n",
       "       [0, 0, 0, ..., 0, 0, 0]], dtype=uint8)"
      ]
     },
     "metadata": {},
     "execution_count": 2046
    }
   ],
   "metadata": {}
  },
  {
   "cell_type": "markdown",
   "source": [
    "# Step 2: Create paragraph boxes"
   ],
   "metadata": {}
  },
  {
   "cell_type": "code",
   "execution_count": 2047,
   "source": [
    "dataset = pd.DataFrame(dst).stack().reset_index().rename({'level_0': 'y', 'level_1': 'x', 0: 'brightness'}, axis=1)\n",
    "dataset = dataset[dataset.brightness > 20]\n",
    "dataset"
   ],
   "outputs": [
    {
     "output_type": "execute_result",
     "data": {
      "text/html": [
       "<div>\n",
       "<style scoped>\n",
       "    .dataframe tbody tr th:only-of-type {\n",
       "        vertical-align: middle;\n",
       "    }\n",
       "\n",
       "    .dataframe tbody tr th {\n",
       "        vertical-align: top;\n",
       "    }\n",
       "\n",
       "    .dataframe thead th {\n",
       "        text-align: right;\n",
       "    }\n",
       "</style>\n",
       "<table border=\"1\" class=\"dataframe\">\n",
       "  <thead>\n",
       "    <tr style=\"text-align: right;\">\n",
       "      <th></th>\n",
       "      <th>y</th>\n",
       "      <th>x</th>\n",
       "      <th>brightness</th>\n",
       "    </tr>\n",
       "  </thead>\n",
       "  <tbody>\n",
       "    <tr>\n",
       "      <th>3120</th>\n",
       "      <td>6</td>\n",
       "      <td>18</td>\n",
       "      <td>255</td>\n",
       "    </tr>\n",
       "    <tr>\n",
       "      <th>3121</th>\n",
       "      <td>6</td>\n",
       "      <td>19</td>\n",
       "      <td>255</td>\n",
       "    </tr>\n",
       "    <tr>\n",
       "      <th>3122</th>\n",
       "      <td>6</td>\n",
       "      <td>20</td>\n",
       "      <td>255</td>\n",
       "    </tr>\n",
       "    <tr>\n",
       "      <th>3123</th>\n",
       "      <td>6</td>\n",
       "      <td>21</td>\n",
       "      <td>255</td>\n",
       "    </tr>\n",
       "    <tr>\n",
       "      <th>3124</th>\n",
       "      <td>6</td>\n",
       "      <td>22</td>\n",
       "      <td>255</td>\n",
       "    </tr>\n",
       "    <tr>\n",
       "      <th>...</th>\n",
       "      <td>...</td>\n",
       "      <td>...</td>\n",
       "      <td>...</td>\n",
       "    </tr>\n",
       "    <tr>\n",
       "      <th>392426</th>\n",
       "      <td>759</td>\n",
       "      <td>23</td>\n",
       "      <td>255</td>\n",
       "    </tr>\n",
       "    <tr>\n",
       "      <th>392427</th>\n",
       "      <td>759</td>\n",
       "      <td>24</td>\n",
       "      <td>255</td>\n",
       "    </tr>\n",
       "    <tr>\n",
       "      <th>392428</th>\n",
       "      <td>759</td>\n",
       "      <td>25</td>\n",
       "      <td>255</td>\n",
       "    </tr>\n",
       "    <tr>\n",
       "      <th>392429</th>\n",
       "      <td>759</td>\n",
       "      <td>26</td>\n",
       "      <td>255</td>\n",
       "    </tr>\n",
       "    <tr>\n",
       "      <th>392430</th>\n",
       "      <td>759</td>\n",
       "      <td>27</td>\n",
       "      <td>255</td>\n",
       "    </tr>\n",
       "  </tbody>\n",
       "</table>\n",
       "<p>172781 rows × 3 columns</p>\n",
       "</div>"
      ],
      "text/plain": [
       "          y   x  brightness\n",
       "3120      6  18         255\n",
       "3121      6  19         255\n",
       "3122      6  20         255\n",
       "3123      6  21         255\n",
       "3124      6  22         255\n",
       "...     ...  ..         ...\n",
       "392426  759  23         255\n",
       "392427  759  24         255\n",
       "392428  759  25         255\n",
       "392429  759  26         255\n",
       "392430  759  27         255\n",
       "\n",
       "[172781 rows x 3 columns]"
      ]
     },
     "metadata": {},
     "execution_count": 2047
    }
   ],
   "metadata": {}
  },
  {
   "cell_type": "code",
   "execution_count": 2048,
   "source": [
    "epsilon = 2\n",
    "\n",
    "clustered = dataset.copy()\n",
    "\n",
    "clustering = DBSCAN(eps=epsilon, min_samples=10).fit(dataset.loc[:, ['y', 'x']])\n",
    "clustered['cluster'] = clustering.labels_\n"
   ],
   "outputs": [],
   "metadata": {}
  },
  {
   "cell_type": "code",
   "execution_count": 2049,
   "source": [
    "raw_clusters = clustered.groupby('cluster').agg({'x': ['min', 'max'], 'y': ['min', 'max']}, axis=1)\n",
    "raw_clusters = pd.concat([raw_clusters.x, raw_clusters.y], axis=1)\n",
    "raw_clusters.columns = ['x1', 'y1', 'x2', 'y2']"
   ],
   "outputs": [],
   "metadata": {}
  },
  {
   "cell_type": "code",
   "execution_count": 2050,
   "source": [
    "len(raw_clusters)"
   ],
   "outputs": [
    {
     "output_type": "execute_result",
     "data": {
      "text/plain": [
       "36"
      ]
     },
     "metadata": {},
     "execution_count": 2050
    }
   ],
   "metadata": {}
  },
  {
   "cell_type": "code",
   "execution_count": 2051,
   "source": [
    "dst = inverse(dst)\n",
    "\n",
    "kernel_dim = 3\n",
    "\n",
    "raw = 255*np.ones((original_img.shape), np.uint8)\n",
    "\n",
    "for rect in raw_clusters.values:\n",
    "    x1, y1, x2, y2 = rect\n",
    "    cv2.rectangle(raw, (y1, y2), (x1, x2), 0, 1)\n",
    "\n",
    "raw = inverse(raw)"
   ],
   "outputs": [],
   "metadata": {}
  },
  {
   "cell_type": "markdown",
   "source": [
    "# Step 3: Cluster pruning"
   ],
   "metadata": {}
  },
  {
   "cell_type": "markdown",
   "source": [
    "## Stage 1: Unite close clusters"
   ],
   "metadata": {}
  },
  {
   "cell_type": "code",
   "execution_count": 2052,
   "source": [
    "dataset = pd.DataFrame(raw).stack().reset_index().rename({'level_0': 'y', 'level_1': 'x', 0: 'brightness'}, axis=1)\n",
    "dataset = dataset[dataset.brightness > 20]\n",
    "dataset"
   ],
   "outputs": [
    {
     "output_type": "execute_result",
     "data": {
      "text/html": [
       "<div>\n",
       "<style scoped>\n",
       "    .dataframe tbody tr th:only-of-type {\n",
       "        vertical-align: middle;\n",
       "    }\n",
       "\n",
       "    .dataframe tbody tr th {\n",
       "        vertical-align: top;\n",
       "    }\n",
       "\n",
       "    .dataframe thead th {\n",
       "        text-align: right;\n",
       "    }\n",
       "</style>\n",
       "<table border=\"1\" class=\"dataframe\">\n",
       "  <thead>\n",
       "    <tr style=\"text-align: right;\">\n",
       "      <th></th>\n",
       "      <th>y</th>\n",
       "      <th>x</th>\n",
       "      <th>brightness</th>\n",
       "    </tr>\n",
       "  </thead>\n",
       "  <tbody>\n",
       "    <tr>\n",
       "      <th>3119</th>\n",
       "      <td>6</td>\n",
       "      <td>17</td>\n",
       "      <td>255</td>\n",
       "    </tr>\n",
       "    <tr>\n",
       "      <th>3120</th>\n",
       "      <td>6</td>\n",
       "      <td>18</td>\n",
       "      <td>255</td>\n",
       "    </tr>\n",
       "    <tr>\n",
       "      <th>3121</th>\n",
       "      <td>6</td>\n",
       "      <td>19</td>\n",
       "      <td>255</td>\n",
       "    </tr>\n",
       "    <tr>\n",
       "      <th>3122</th>\n",
       "      <td>6</td>\n",
       "      <td>20</td>\n",
       "      <td>255</td>\n",
       "    </tr>\n",
       "    <tr>\n",
       "      <th>3123</th>\n",
       "      <td>6</td>\n",
       "      <td>21</td>\n",
       "      <td>255</td>\n",
       "    </tr>\n",
       "    <tr>\n",
       "      <th>...</th>\n",
       "      <td>...</td>\n",
       "      <td>...</td>\n",
       "      <td>...</td>\n",
       "    </tr>\n",
       "    <tr>\n",
       "      <th>392426</th>\n",
       "      <td>759</td>\n",
       "      <td>23</td>\n",
       "      <td>255</td>\n",
       "    </tr>\n",
       "    <tr>\n",
       "      <th>392427</th>\n",
       "      <td>759</td>\n",
       "      <td>24</td>\n",
       "      <td>255</td>\n",
       "    </tr>\n",
       "    <tr>\n",
       "      <th>392428</th>\n",
       "      <td>759</td>\n",
       "      <td>25</td>\n",
       "      <td>255</td>\n",
       "    </tr>\n",
       "    <tr>\n",
       "      <th>392429</th>\n",
       "      <td>759</td>\n",
       "      <td>26</td>\n",
       "      <td>255</td>\n",
       "    </tr>\n",
       "    <tr>\n",
       "      <th>392430</th>\n",
       "      <td>759</td>\n",
       "      <td>27</td>\n",
       "      <td>255</td>\n",
       "    </tr>\n",
       "  </tbody>\n",
       "</table>\n",
       "<p>15462 rows × 3 columns</p>\n",
       "</div>"
      ],
      "text/plain": [
       "          y   x  brightness\n",
       "3119      6  17         255\n",
       "3120      6  18         255\n",
       "3121      6  19         255\n",
       "3122      6  20         255\n",
       "3123      6  21         255\n",
       "...     ...  ..         ...\n",
       "392426  759  23         255\n",
       "392427  759  24         255\n",
       "392428  759  25         255\n",
       "392429  759  26         255\n",
       "392430  759  27         255\n",
       "\n",
       "[15462 rows x 3 columns]"
      ]
     },
     "metadata": {},
     "execution_count": 2052
    }
   ],
   "metadata": {}
  },
  {
   "cell_type": "markdown",
   "source": [
    "Here:\n",
    "\n",
    "[epsilon_2 = min(width, height) / 1.8] is a heuristic, manualy balanced inter cluster max range (our paragraphs won't have bigger distances within one cluster) "
   ],
   "metadata": {}
  },
  {
   "cell_type": "code",
   "execution_count": 2053,
   "source": [
    "clustered = dataset.copy()\n",
    "\n",
    "epsilon_2 = min(width, height) / 1.8\n",
    "\n",
    "clustering = DBSCAN(eps=epsilon_2, min_samples=4).fit(dataset.loc[:, ['y', 'x']])\n",
    "clustered['cluster'] = clustering.labels_\n",
    "print(clustered.cluster.nunique())"
   ],
   "outputs": [
    {
     "output_type": "stream",
     "name": "stdout",
     "text": [
      "32\n"
     ]
    }
   ],
   "metadata": {}
  },
  {
   "cell_type": "code",
   "execution_count": 2054,
   "source": [
    "raw_clusters = clustered.groupby('cluster').agg({'x': ['min', 'max'], 'y': ['min', 'max']}, axis=1)\n",
    "raw_clusters = pd.concat([raw_clusters.x, raw_clusters.y], axis=1)\n",
    "raw_clusters.columns = ['x1', 'x2', 'y1', 'y2']"
   ],
   "outputs": [],
   "metadata": {}
  },
  {
   "cell_type": "markdown",
   "source": [
    "## Stage 2: Cluster inside cluster issue"
   ],
   "metadata": {}
  },
  {
   "cell_type": "code",
   "execution_count": 2055,
   "source": [
    "raw_clusters['shape'] = abs(raw_clusters['x1'] - raw_clusters['x2']) * abs(raw_clusters['y1'] - raw_clusters['y2'])\n",
    "raw_clusters.sort_values('shape', inplace=True, ascending=False)"
   ],
   "outputs": [],
   "metadata": {}
  },
  {
   "cell_type": "markdown",
   "source": [
    "Simple algo. Sort clusters by thier area. For each cluter if their mass center is available on matrix and then fill it's area "
   ],
   "metadata": {}
  },
  {
   "cell_type": "code",
   "execution_count": 2056,
   "source": [
    "cluster_list = []\n",
    "mask = np.zeros(original_img.shape, np.uint8)\n",
    "\n",
    "for cluster in raw_clusters.values:\n",
    "    \n",
    "    x_mass = (cluster[0] + cluster[1]) // 2\n",
    "    y_mass = (cluster[2] + cluster[3]) // 2\n",
    "\n",
    "    if mask[y_mass][x_mass] == 0:\n",
    "        cluster_list.append(cluster[:-1])\n",
    "        cv2.rectangle(mask, (cluster[1], cluster[3]), (cluster[0], cluster[2]), 255, -1)"
   ],
   "outputs": [],
   "metadata": {}
  },
  {
   "cell_type": "code",
   "execution_count": 2057,
   "source": [
    "final_clusters = pd.DataFrame(cluster_list).rename({0:'x1', 1:'x2', 2:'y1', 3:'y2'}, axis=1)\n",
    "final_clusters['id'] = final_clusters.index"
   ],
   "outputs": [],
   "metadata": {}
  },
  {
   "cell_type": "markdown",
   "source": [
    "# Step 4: Add some order"
   ],
   "metadata": {}
  },
  {
   "cell_type": "markdown",
   "source": [
    "## Stage 1: Chunk spliting"
   ],
   "metadata": {}
  },
  {
   "cell_type": "code",
   "execution_count": 2058,
   "source": [
    "cv2.imwrite(\"../out/transitional.png\", raw)"
   ],
   "outputs": [
    {
     "output_type": "execute_result",
     "data": {
      "text/plain": [
       "True"
      ]
     },
     "metadata": {},
     "execution_count": 2058
    }
   ],
   "metadata": {}
  },
  {
   "cell_type": "code",
   "execution_count": 2059,
   "source": [
    "img_width = img.shape[1]\n",
    "\n",
    "split_vect = np.array([1 for _ in range(img_width)], np.uint8)\n",
    "\n",
    "splits = pd.DataFrame(raw @ split_vect).rename({0: 'not_free'}, axis=1).reset_index().set_index('index')"
   ],
   "outputs": [],
   "metadata": {}
  },
  {
   "cell_type": "code",
   "execution_count": 2060,
   "source": [
    "def diff(series):\n",
    "    return series - series.shift(1, fill_value=0)\n",
    "\n",
    "split_borders = diff(splits[splits.not_free == 0].index.to_series())\n",
    "split_borders = split_borders[split_borders > 1].index"
   ],
   "outputs": [],
   "metadata": {}
  },
  {
   "cell_type": "code",
   "execution_count": 2061,
   "source": [
    "split_borders"
   ],
   "outputs": [
    {
     "output_type": "execute_result",
     "data": {
      "text/plain": [
       "Int64Index([28, 439, 458, 480, 520, 539, 581, 630, 652, 693, 711, 732, 760], dtype='int64', name='index')"
      ]
     },
     "metadata": {},
     "execution_count": 2061
    }
   ],
   "metadata": {}
  },
  {
   "cell_type": "code",
   "execution_count": 2062,
   "source": [
    "final_clusters.shape"
   ],
   "outputs": [
    {
     "output_type": "execute_result",
     "data": {
      "text/plain": [
       "(31, 5)"
      ]
     },
     "metadata": {},
     "execution_count": 2062
    }
   ],
   "metadata": {}
  },
  {
   "cell_type": "code",
   "execution_count": 2063,
   "source": [
    "prev_split = -1\n",
    "\n",
    "for split in split_borders:\n",
    "    chunk_clusters = final_clusters[\n",
    "        (final_clusters['y2'] <= split) & \n",
    "        (final_clusters['y1'] >= prev_split)]\n",
    "    prev_split = split + 1\n",
    "    # print()\n",
    "    cv2.line(raw, (0, split), (img_width - 1, split), 255, 1)\n",
    "    print(chunk_clusters['id'].to_list())\n",
    "\n",
    "cv2.imwrite('../out/transitional.png', raw)"
   ],
   "outputs": [
    {
     "output_type": "stream",
     "name": "stdout",
     "text": [
      "[22]\n",
      "[1, 4, 5, 6, 7, 8, 9, 12, 14, 15, 16, 17, 19, 20, 21, 23]\n",
      "[11]\n",
      "[27]\n",
      "[24]\n",
      "[10]\n",
      "[25]\n",
      "[26]\n",
      "[18, 28]\n",
      "[]\n",
      "[]\n",
      "[13, 29]\n",
      "[30]\n"
     ]
    },
    {
     "output_type": "execute_result",
     "data": {
      "text/plain": [
       "True"
      ]
     },
     "metadata": {},
     "execution_count": 2063
    }
   ],
   "metadata": {}
  },
  {
   "cell_type": "code",
   "execution_count": 2064,
   "source": [
    "ordered_id_list = []"
   ],
   "outputs": [],
   "metadata": {}
  },
  {
   "cell_type": "code",
   "execution_count": 2065,
   "source": [
    "\n",
    "\n",
    "def select_paragraph_order(dataset):\n",
    "    global CNT\n",
    "    # print(f'Iteration {CNT}')\n",
    "\n",
    "    CNT += 1\n",
    "    \n",
    "    if dataset.shape[0] == 1:\n",
    "        # print(f'1 cluster - id[{dataset.iloc[0].id}]')\n",
    "        return ordered_id_list.append(dataset.iloc[0].id)\n",
    "    elif dataset.shape[0] == 0:\n",
    "        # print('0 clusters')\n",
    "        return\n",
    "\n",
    "    def diff(series):\n",
    "        return series - series.shift(1, fill_value=0)\n",
    "\n",
    "    def get_subrects(split, prev_split, type):\n",
    "        return dataset[\n",
    "            (dataset[f'{type}2'] <= split) & \n",
    "            (dataset[f'{type}1'] >= prev_split)\n",
    "        ]\n",
    "\n",
    "    _xmin = dataset.x1.min()\n",
    "    _ymin = dataset.y1.min()\n",
    "\n",
    "    # Prepare dataset\n",
    "    dataset['x1'] -= _xmin - 1\n",
    "    dataset['x2'] -= _xmin - 1\n",
    "    dataset['y1'] -= _ymin - 1\n",
    "    dataset['y2'] -= _ymin - 1\n",
    "\n",
    "    _img = np.ones((dataset.y2.max() + 2, dataset.x2.max() + 2), np.uint8) * 0\n",
    "    \n",
    "    for rect in dataset.values:\n",
    "        x1, y1, x2, y2 = rect[:4]\n",
    "        cv2.rectangle(_img, (y1, y2), (x1, x2), 255, 1)\n",
    "\n",
    "    # cv2.imwrite('../out/transitional.png', _img)\n",
    "\n",
    "\n",
    "\n",
    "    # Line segregation\n",
    "    img_width = _img.shape[1]\n",
    "\n",
    "    split_vect = np.array([1 for _ in range(img_width)], np.uint8)\n",
    "    splits = pd.DataFrame(_img @ split_vect).rename({0: 'not_free'}, axis=1).reset_index().set_index('index') \n",
    "    split_borders = diff(splits[splits.not_free == 0].index.to_series())\n",
    "    split_borders = split_borders[split_borders > 1].index\n",
    "    if len(split_borders) >= 2:\n",
    "        # print(f'Has horizontal segregation - {split_borders}')\n",
    "        prev_split = 0\n",
    "\n",
    "        for split_y in split_borders:\n",
    "            select_paragraph_order(get_subrects(split_y, prev_split, 'y'))\n",
    "            # print(f'Next split y {split_y} \\n{get_subrects(split_y, prev_split, \"y\")}')\n",
    "            prev_split = split_y\n",
    "        \n",
    "        return\n",
    "    # print(f'Not horizontal {split_borders}')\n",
    "    \n",
    "    # Column segregation\n",
    "    img_width = _img.shape[0]\n",
    "\n",
    "    split_vect = np.array([1 for _ in range(img_width)], np.uint8)\n",
    "    splits = pd.DataFrame(_img.transpose() @ split_vect).rename({0: 'not_free'}, axis=1).reset_index().set_index('index') \n",
    "    split_borders = diff(splits[splits.not_free == 0].index.to_series())\n",
    "    split_borders = split_borders[split_borders > 1].index\n",
    "    if len(split_borders) >= 2:\n",
    "        # print(f'Has vertical segregation - {split_borders}')\n",
    "        prev_split = 0\n",
    "\n",
    "        for split_x in split_borders:\n",
    "            select_paragraph_order(get_subrects(split_x, prev_split, 'x'))\n",
    "            # print(f'Next split x {split_x} \\n{get_subrects(split_x, prev_split, \"x\")}')\n",
    "            prev_split = split_x\n",
    "        \n",
    "        return \n",
    "    # print(f'Not vertical {split_borders}')\n",
    "    return\n",
    "    # Variation analysis\n",
    "\n",
    "    # Case - columns:\n",
    "\n",
    "    # Case - rows:"
   ],
   "outputs": [],
   "metadata": {}
  },
  {
   "cell_type": "code",
   "execution_count": 2066,
   "source": [
    "select_paragraph_order(final_clusters.copy())"
   ],
   "outputs": [
    {
     "output_type": "stream",
     "name": "stderr",
     "text": [
      "/tmp/ipykernel_63019/1564694595.py:27: SettingWithCopyWarning: \n",
      "A value is trying to be set on a copy of a slice from a DataFrame.\n",
      "Try using .loc[row_indexer,col_indexer] = value instead\n",
      "\n",
      "See the caveats in the documentation: https://pandas.pydata.org/pandas-docs/stable/user_guide/indexing.html#returning-a-view-versus-a-copy\n",
      "  dataset['x1'] -= _xmin - 1\n",
      "/tmp/ipykernel_63019/1564694595.py:28: SettingWithCopyWarning: \n",
      "A value is trying to be set on a copy of a slice from a DataFrame.\n",
      "Try using .loc[row_indexer,col_indexer] = value instead\n",
      "\n",
      "See the caveats in the documentation: https://pandas.pydata.org/pandas-docs/stable/user_guide/indexing.html#returning-a-view-versus-a-copy\n",
      "  dataset['x2'] -= _xmin - 1\n",
      "/tmp/ipykernel_63019/1564694595.py:29: SettingWithCopyWarning: \n",
      "A value is trying to be set on a copy of a slice from a DataFrame.\n",
      "Try using .loc[row_indexer,col_indexer] = value instead\n",
      "\n",
      "See the caveats in the documentation: https://pandas.pydata.org/pandas-docs/stable/user_guide/indexing.html#returning-a-view-versus-a-copy\n",
      "  dataset['y1'] -= _ymin - 1\n",
      "/tmp/ipykernel_63019/1564694595.py:30: SettingWithCopyWarning: \n",
      "A value is trying to be set on a copy of a slice from a DataFrame.\n",
      "Try using .loc[row_indexer,col_indexer] = value instead\n",
      "\n",
      "See the caveats in the documentation: https://pandas.pydata.org/pandas-docs/stable/user_guide/indexing.html#returning-a-view-versus-a-copy\n",
      "  dataset['y2'] -= _ymin - 1\n"
     ]
    }
   ],
   "metadata": {}
  },
  {
   "cell_type": "code",
   "execution_count": 2068,
   "source": [
    "len(ordered_id_list) == len(final_clusters)"
   ],
   "outputs": [
    {
     "output_type": "execute_result",
     "data": {
      "text/plain": [
       "True"
      ]
     },
     "metadata": {},
     "execution_count": 2068
    }
   ],
   "metadata": {}
  },
  {
   "cell_type": "code",
   "execution_count": 2069,
   "source": [
    "cluster_order = pd.DataFrame(ordered_id_list).sort_values(0).reset_index().rename({0:'id', 'index':'order_id'}, axis=1)"
   ],
   "outputs": [],
   "metadata": {}
  },
  {
   "cell_type": "code",
   "execution_count": 2070,
   "source": [
    "final_clusters['x_mass'] = (final_clusters['x1'] + final_clusters['x2']) / 2\n",
    "final_clusters['y_mass'] = (final_clusters['y1'] + final_clusters['y2']) / 2\n",
    "\n",
    "final_clusters = final_clusters.merge(cluster_order)"
   ],
   "outputs": [],
   "metadata": {}
  },
  {
   "cell_type": "code",
   "execution_count": 2071,
   "source": [
    "final_clusters"
   ],
   "outputs": [
    {
     "output_type": "execute_result",
     "data": {
      "text/html": [
       "<div>\n",
       "<style scoped>\n",
       "    .dataframe tbody tr th:only-of-type {\n",
       "        vertical-align: middle;\n",
       "    }\n",
       "\n",
       "    .dataframe tbody tr th {\n",
       "        vertical-align: top;\n",
       "    }\n",
       "\n",
       "    .dataframe thead th {\n",
       "        text-align: right;\n",
       "    }\n",
       "</style>\n",
       "<table border=\"1\" class=\"dataframe\">\n",
       "  <thead>\n",
       "    <tr style=\"text-align: right;\">\n",
       "      <th></th>\n",
       "      <th>x1</th>\n",
       "      <th>x2</th>\n",
       "      <th>y1</th>\n",
       "      <th>y2</th>\n",
       "      <th>id</th>\n",
       "      <th>x_mass</th>\n",
       "      <th>y_mass</th>\n",
       "      <th>order_id</th>\n",
       "    </tr>\n",
       "  </thead>\n",
       "  <tbody>\n",
       "    <tr>\n",
       "      <th>0</th>\n",
       "      <td>66</td>\n",
       "      <td>484</td>\n",
       "      <td>547</td>\n",
       "      <td>629</td>\n",
       "      <td>0</td>\n",
       "      <td>275.0</td>\n",
       "      <td>588.0</td>\n",
       "      <td>24</td>\n",
       "    </tr>\n",
       "    <tr>\n",
       "      <th>1</th>\n",
       "      <td>21</td>\n",
       "      <td>154</td>\n",
       "      <td>235</td>\n",
       "      <td>438</td>\n",
       "      <td>1</td>\n",
       "      <td>87.5</td>\n",
       "      <td>336.5</td>\n",
       "      <td>2</td>\n",
       "    </tr>\n",
       "    <tr>\n",
       "      <th>2</th>\n",
       "      <td>21</td>\n",
       "      <td>484</td>\n",
       "      <td>659</td>\n",
       "      <td>710</td>\n",
       "      <td>2</td>\n",
       "      <td>252.5</td>\n",
       "      <td>684.5</td>\n",
       "      <td>27</td>\n",
       "    </tr>\n",
       "    <tr>\n",
       "      <th>3</th>\n",
       "      <td>66</td>\n",
       "      <td>484</td>\n",
       "      <td>467</td>\n",
       "      <td>519</td>\n",
       "      <td>3</td>\n",
       "      <td>275.0</td>\n",
       "      <td>493.0</td>\n",
       "      <td>20</td>\n",
       "    </tr>\n",
       "    <tr>\n",
       "      <th>4</th>\n",
       "      <td>21</td>\n",
       "      <td>148</td>\n",
       "      <td>63</td>\n",
       "      <td>226</td>\n",
       "      <td>4</td>\n",
       "      <td>84.5</td>\n",
       "      <td>144.5</td>\n",
       "      <td>1</td>\n",
       "    </tr>\n",
       "    <tr>\n",
       "      <th>5</th>\n",
       "      <td>186</td>\n",
       "      <td>313</td>\n",
       "      <td>295</td>\n",
       "      <td>428</td>\n",
       "      <td>5</td>\n",
       "      <td>249.5</td>\n",
       "      <td>361.5</td>\n",
       "      <td>8</td>\n",
       "    </tr>\n",
       "    <tr>\n",
       "      <th>6</th>\n",
       "      <td>350</td>\n",
       "      <td>483</td>\n",
       "      <td>144</td>\n",
       "      <td>236</td>\n",
       "      <td>6</td>\n",
       "      <td>416.5</td>\n",
       "      <td>190.0</td>\n",
       "      <td>11</td>\n",
       "    </tr>\n",
       "    <tr>\n",
       "      <th>7</th>\n",
       "      <td>186</td>\n",
       "      <td>316</td>\n",
       "      <td>123</td>\n",
       "      <td>185</td>\n",
       "      <td>7</td>\n",
       "      <td>251.0</td>\n",
       "      <td>154.0</td>\n",
       "      <td>5</td>\n",
       "    </tr>\n",
       "    <tr>\n",
       "      <th>8</th>\n",
       "      <td>186</td>\n",
       "      <td>313</td>\n",
       "      <td>225</td>\n",
       "      <td>286</td>\n",
       "      <td>8</td>\n",
       "      <td>249.5</td>\n",
       "      <td>255.5</td>\n",
       "      <td>7</td>\n",
       "    </tr>\n",
       "    <tr>\n",
       "      <th>9</th>\n",
       "      <td>350</td>\n",
       "      <td>482</td>\n",
       "      <td>336</td>\n",
       "      <td>386</td>\n",
       "      <td>9</td>\n",
       "      <td>416.0</td>\n",
       "      <td>361.0</td>\n",
       "      <td>15</td>\n",
       "    </tr>\n",
       "    <tr>\n",
       "      <th>10</th>\n",
       "      <td>21</td>\n",
       "      <td>481</td>\n",
       "      <td>525</td>\n",
       "      <td>538</td>\n",
       "      <td>10</td>\n",
       "      <td>251.0</td>\n",
       "      <td>531.5</td>\n",
       "      <td>21</td>\n",
       "    </tr>\n",
       "    <tr>\n",
       "      <th>11</th>\n",
       "      <td>21</td>\n",
       "      <td>481</td>\n",
       "      <td>444</td>\n",
       "      <td>457</td>\n",
       "      <td>11</td>\n",
       "      <td>251.0</td>\n",
       "      <td>450.5</td>\n",
       "      <td>17</td>\n",
       "    </tr>\n",
       "    <tr>\n",
       "      <th>12</th>\n",
       "      <td>350</td>\n",
       "      <td>477</td>\n",
       "      <td>93</td>\n",
       "      <td>133</td>\n",
       "      <td>12</td>\n",
       "      <td>413.5</td>\n",
       "      <td>113.0</td>\n",
       "      <td>10</td>\n",
       "    </tr>\n",
       "    <tr>\n",
       "      <th>13</th>\n",
       "      <td>67</td>\n",
       "      <td>484</td>\n",
       "      <td>720</td>\n",
       "      <td>731</td>\n",
       "      <td>13</td>\n",
       "      <td>275.5</td>\n",
       "      <td>725.5</td>\n",
       "      <td>29</td>\n",
       "    </tr>\n",
       "    <tr>\n",
       "      <th>14</th>\n",
       "      <td>350</td>\n",
       "      <td>477</td>\n",
       "      <td>53</td>\n",
       "      <td>87</td>\n",
       "      <td>14</td>\n",
       "      <td>413.5</td>\n",
       "      <td>70.0</td>\n",
       "      <td>9</td>\n",
       "    </tr>\n",
       "    <tr>\n",
       "      <th>15</th>\n",
       "      <td>350</td>\n",
       "      <td>482</td>\n",
       "      <td>397</td>\n",
       "      <td>427</td>\n",
       "      <td>15</td>\n",
       "      <td>416.0</td>\n",
       "      <td>412.0</td>\n",
       "      <td>16</td>\n",
       "    </tr>\n",
       "    <tr>\n",
       "      <th>16</th>\n",
       "      <td>348</td>\n",
       "      <td>472</td>\n",
       "      <td>245</td>\n",
       "      <td>276</td>\n",
       "      <td>16</td>\n",
       "      <td>410.0</td>\n",
       "      <td>260.5</td>\n",
       "      <td>12</td>\n",
       "    </tr>\n",
       "    <tr>\n",
       "      <th>17</th>\n",
       "      <td>186</td>\n",
       "      <td>306</td>\n",
       "      <td>52</td>\n",
       "      <td>84</td>\n",
       "      <td>17</td>\n",
       "      <td>246.0</td>\n",
       "      <td>68.0</td>\n",
       "      <td>3</td>\n",
       "    </tr>\n",
       "    <tr>\n",
       "      <th>18</th>\n",
       "      <td>67</td>\n",
       "      <td>326</td>\n",
       "      <td>639</td>\n",
       "      <td>651</td>\n",
       "      <td>18</td>\n",
       "      <td>196.5</td>\n",
       "      <td>645.0</td>\n",
       "      <td>26</td>\n",
       "    </tr>\n",
       "    <tr>\n",
       "      <th>19</th>\n",
       "      <td>186</td>\n",
       "      <td>316</td>\n",
       "      <td>194</td>\n",
       "      <td>216</td>\n",
       "      <td>19</td>\n",
       "      <td>251.0</td>\n",
       "      <td>205.0</td>\n",
       "      <td>6</td>\n",
       "    </tr>\n",
       "    <tr>\n",
       "      <th>20</th>\n",
       "      <td>186</td>\n",
       "      <td>316</td>\n",
       "      <td>93</td>\n",
       "      <td>114</td>\n",
       "      <td>20</td>\n",
       "      <td>251.0</td>\n",
       "      <td>103.5</td>\n",
       "      <td>4</td>\n",
       "    </tr>\n",
       "    <tr>\n",
       "      <th>21</th>\n",
       "      <td>351</td>\n",
       "      <td>472</td>\n",
       "      <td>285</td>\n",
       "      <td>307</td>\n",
       "      <td>21</td>\n",
       "      <td>411.5</td>\n",
       "      <td>296.0</td>\n",
       "      <td>13</td>\n",
       "    </tr>\n",
       "    <tr>\n",
       "      <th>22</th>\n",
       "      <td>17</td>\n",
       "      <td>109</td>\n",
       "      <td>6</td>\n",
       "      <td>27</td>\n",
       "      <td>22</td>\n",
       "      <td>63.0</td>\n",
       "      <td>16.5</td>\n",
       "      <td>0</td>\n",
       "    </tr>\n",
       "    <tr>\n",
       "      <th>23</th>\n",
       "      <td>351</td>\n",
       "      <td>436</td>\n",
       "      <td>313</td>\n",
       "      <td>328</td>\n",
       "      <td>23</td>\n",
       "      <td>393.5</td>\n",
       "      <td>320.5</td>\n",
       "      <td>14</td>\n",
       "    </tr>\n",
       "    <tr>\n",
       "      <th>24</th>\n",
       "      <td>39</td>\n",
       "      <td>53</td>\n",
       "      <td>488</td>\n",
       "      <td>498</td>\n",
       "      <td>24</td>\n",
       "      <td>46.0</td>\n",
       "      <td>493.0</td>\n",
       "      <td>19</td>\n",
       "    </tr>\n",
       "    <tr>\n",
       "      <th>25</th>\n",
       "      <td>39</td>\n",
       "      <td>52</td>\n",
       "      <td>548</td>\n",
       "      <td>558</td>\n",
       "      <td>25</td>\n",
       "      <td>45.5</td>\n",
       "      <td>553.0</td>\n",
       "      <td>22</td>\n",
       "    </tr>\n",
       "    <tr>\n",
       "      <th>26</th>\n",
       "      <td>39</td>\n",
       "      <td>52</td>\n",
       "      <td>589</td>\n",
       "      <td>599</td>\n",
       "      <td>26</td>\n",
       "      <td>45.5</td>\n",
       "      <td>594.0</td>\n",
       "      <td>23</td>\n",
       "    </tr>\n",
       "    <tr>\n",
       "      <th>27</th>\n",
       "      <td>39</td>\n",
       "      <td>52</td>\n",
       "      <td>467</td>\n",
       "      <td>477</td>\n",
       "      <td>27</td>\n",
       "      <td>45.5</td>\n",
       "      <td>472.0</td>\n",
       "      <td>18</td>\n",
       "    </tr>\n",
       "    <tr>\n",
       "      <th>28</th>\n",
       "      <td>39</td>\n",
       "      <td>52</td>\n",
       "      <td>640</td>\n",
       "      <td>649</td>\n",
       "      <td>28</td>\n",
       "      <td>45.5</td>\n",
       "      <td>644.5</td>\n",
       "      <td>25</td>\n",
       "    </tr>\n",
       "    <tr>\n",
       "      <th>29</th>\n",
       "      <td>39</td>\n",
       "      <td>52</td>\n",
       "      <td>721</td>\n",
       "      <td>729</td>\n",
       "      <td>29</td>\n",
       "      <td>45.5</td>\n",
       "      <td>725.0</td>\n",
       "      <td>28</td>\n",
       "    </tr>\n",
       "    <tr>\n",
       "      <th>30</th>\n",
       "      <td>21</td>\n",
       "      <td>27</td>\n",
       "      <td>751</td>\n",
       "      <td>759</td>\n",
       "      <td>30</td>\n",
       "      <td>24.0</td>\n",
       "      <td>755.0</td>\n",
       "      <td>30</td>\n",
       "    </tr>\n",
       "  </tbody>\n",
       "</table>\n",
       "</div>"
      ],
      "text/plain": [
       "     x1   x2   y1   y2  id  x_mass  y_mass  order_id\n",
       "0    66  484  547  629   0   275.0   588.0        24\n",
       "1    21  154  235  438   1    87.5   336.5         2\n",
       "2    21  484  659  710   2   252.5   684.5        27\n",
       "3    66  484  467  519   3   275.0   493.0        20\n",
       "4    21  148   63  226   4    84.5   144.5         1\n",
       "5   186  313  295  428   5   249.5   361.5         8\n",
       "6   350  483  144  236   6   416.5   190.0        11\n",
       "7   186  316  123  185   7   251.0   154.0         5\n",
       "8   186  313  225  286   8   249.5   255.5         7\n",
       "9   350  482  336  386   9   416.0   361.0        15\n",
       "10   21  481  525  538  10   251.0   531.5        21\n",
       "11   21  481  444  457  11   251.0   450.5        17\n",
       "12  350  477   93  133  12   413.5   113.0        10\n",
       "13   67  484  720  731  13   275.5   725.5        29\n",
       "14  350  477   53   87  14   413.5    70.0         9\n",
       "15  350  482  397  427  15   416.0   412.0        16\n",
       "16  348  472  245  276  16   410.0   260.5        12\n",
       "17  186  306   52   84  17   246.0    68.0         3\n",
       "18   67  326  639  651  18   196.5   645.0        26\n",
       "19  186  316  194  216  19   251.0   205.0         6\n",
       "20  186  316   93  114  20   251.0   103.5         4\n",
       "21  351  472  285  307  21   411.5   296.0        13\n",
       "22   17  109    6   27  22    63.0    16.5         0\n",
       "23  351  436  313  328  23   393.5   320.5        14\n",
       "24   39   53  488  498  24    46.0   493.0        19\n",
       "25   39   52  548  558  25    45.5   553.0        22\n",
       "26   39   52  589  599  26    45.5   594.0        23\n",
       "27   39   52  467  477  27    45.5   472.0        18\n",
       "28   39   52  640  649  28    45.5   644.5        25\n",
       "29   39   52  721  729  29    45.5   725.0        28\n",
       "30   21   27  751  759  30    24.0   755.0        30"
      ]
     },
     "metadata": {},
     "execution_count": 2071
    }
   ],
   "metadata": {}
  },
  {
   "cell_type": "markdown",
   "source": [
    "# Output"
   ],
   "metadata": {}
  },
  {
   "cell_type": "code",
   "execution_count": 2072,
   "source": [
    "started = True\n",
    "x_prev, y_prev = None, None\n",
    "\n",
    "for rect in final_clusters.sort_values('order_id').values:\n",
    "    x1, y1, x2, y2 = rect[:4].astype(int)\n",
    "    x_mass, y_mass = rect[5:7].astype(int)\n",
    "    cv2.rectangle(original_img, (y1, y2), (x1, x2), 0, 1)\n",
    "\n",
    "\n",
    "    if not started:\n",
    "        cv2.line(original_img, (x_mass, y_mass), (x_prev, y_prev), 0, 1)\n",
    "\n",
    "    x_prev = x_mass\n",
    "    y_prev = y_mass\n",
    "    \n",
    "    started = False\n",
    "\n",
    "cv2.imwrite(OUT_NAME, original_img)\n",
    "# cv2.imwrite(\"../out/transitional.png\", original_img)\n"
   ],
   "outputs": [
    {
     "output_type": "execute_result",
     "data": {
      "text/plain": [
       "True"
      ]
     },
     "metadata": {},
     "execution_count": 2072
    }
   ],
   "metadata": {}
  }
 ],
 "metadata": {
  "orig_nbformat": 4,
  "language_info": {
   "name": "python",
   "version": "3.8.10",
   "mimetype": "text/x-python",
   "codemirror_mode": {
    "name": "ipython",
    "version": 3
   },
   "pygments_lexer": "ipython3",
   "nbconvert_exporter": "python",
   "file_extension": ".py"
  },
  "kernelspec": {
   "name": "python3",
   "display_name": "Python 3.8.10 64-bit ('env': venv)"
  },
  "interpreter": {
   "hash": "6074b88476bdf03c96def3f5aeb59727035c3cb62a881a68391b949d36093171"
  }
 },
 "nbformat": 4,
 "nbformat_minor": 2
}