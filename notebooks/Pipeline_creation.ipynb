{
 "cells": [
  {
   "cell_type": "code",
   "execution_count": 107,
   "source": [
    "import seaborn as sns\n",
    "import pandas as pd\n",
    "import numpy as np\n",
    "\n",
    "import matplotlib.pyplot as plt\n",
    "\n",
    "from PIL import Image\n",
    "\n",
    "from sklearn.preprocessing import StandardScaler\n",
    "from sklearn.cluster import DBSCAN\n",
    "from umap import UMAP \n",
    "\n",
    "from scipy.spatial import distance_matrix\n",
    "\n",
    "import cv2"
   ],
   "outputs": [],
   "metadata": {}
  },
  {
   "cell_type": "markdown",
   "source": [
    "## Picture"
   ],
   "metadata": {}
  },
  {
   "cell_type": "code",
   "execution_count": 108,
   "source": [
    "num = 4\n",
    "\n",
    "PIC_NAME = f'../pics/image{num}.png'\n",
    "OUT_NAME = f'../out/image{num}_test.png'"
   ],
   "outputs": [],
   "metadata": {}
  },
  {
   "cell_type": "markdown",
   "source": [
    "# Step 0: Image preprocessing"
   ],
   "metadata": {}
  },
  {
   "cell_type": "markdown",
   "source": [
    "## Stage 1: Creation binary grayscaled image"
   ],
   "metadata": {}
  },
  {
   "cell_type": "code",
   "execution_count": 109,
   "source": [
    "def black(img, threshold):\n",
    "    img[img >= threshold] = 255\n",
    "    img[img < threshold] = 0\n",
    "    return img \n",
    "\n",
    "def inverse(img):\n",
    "    return 255 - img"
   ],
   "outputs": [],
   "metadata": {}
  },
  {
   "cell_type": "code",
   "execution_count": 110,
   "source": [
    "img = cv2.imread(PIC_NAME, 0)\n",
    "\n",
    "original_img = img.copy()\n",
    "\n",
    "img = inverse(img)\n",
    "black(img, 20)"
   ],
   "outputs": [
    {
     "output_type": "execute_result",
     "data": {
      "text/plain": [
       "array([[0, 0, 0, ..., 0, 0, 0],\n",
       "       [0, 0, 0, ..., 0, 0, 0],\n",
       "       [0, 0, 0, ..., 0, 0, 0],\n",
       "       ...,\n",
       "       [0, 0, 0, ..., 0, 0, 0],\n",
       "       [0, 0, 0, ..., 0, 0, 0],\n",
       "       [0, 0, 0, ..., 0, 0, 0]], dtype=uint8)"
      ]
     },
     "metadata": {},
     "execution_count": 110
    }
   ],
   "metadata": {}
  },
  {
   "cell_type": "markdown",
   "source": [
    "# Step 1: Word detection"
   ],
   "metadata": {}
  },
  {
   "cell_type": "markdown",
   "source": [
    "## Stage 1: Tesseract character metainfo fetching "
   ],
   "metadata": {}
  },
  {
   "cell_type": "code",
   "execution_count": 111,
   "source": [
    "import pytesseract"
   ],
   "outputs": [],
   "metadata": {}
  },
  {
   "cell_type": "code",
   "execution_count": 112,
   "source": [
    "raws = pytesseract.image_to_boxes(cv2.imread(PIC_NAME)).split('\\n')[:-1]\n",
    "matrix = [[int(el) for el in raw.split(' ')[1:-1]] for raw in raws]"
   ],
   "outputs": [],
   "metadata": {}
  },
  {
   "cell_type": "code",
   "execution_count": 113,
   "source": [
    "metainfo = (pd.DataFrame(np.array(matrix)).rename({\n",
    "    0: 'x1',\n",
    "    1: 'y1',\n",
    "    2: 'x2',\n",
    "    3: 'y2' \n",
    "    }, axis=1)\n",
    "    .astype({\n",
    "            'x1': int,\n",
    "            'x2': int,\n",
    "            'y1': int,\n",
    "            'y2': int,\n",
    "    }))"
   ],
   "outputs": [],
   "metadata": {}
  },
  {
   "cell_type": "code",
   "execution_count": 114,
   "source": [
    "metainfo['x_centroid'] = metainfo['x1'] + (metainfo['x2'] - metainfo['x1'] /2)\n",
    "metainfo['y_centroid'] = metainfo['y1'] + (metainfo['y2'] - metainfo['y1'] /2)\n",
    "metainfo['zero'] = 0\n",
    "metainfo['char_shape'] = abs(metainfo['y2'] - metainfo['y1']) * abs(metainfo['x2'] - metainfo['x1'])\n",
    "metainfo['width'] = abs(metainfo['x1'] - metainfo['x2'])\n",
    "metainfo['height'] = abs(metainfo['y1'] - metainfo['y2'])"
   ],
   "outputs": [],
   "metadata": {}
  },
  {
   "cell_type": "code",
   "execution_count": 115,
   "source": [
    "width = metainfo.width.mean()\n",
    "height = metainfo.height.mean()\n",
    "\n",
    "area = width * height\n",
    "\n",
    "print((width, height))"
   ],
   "outputs": [
    {
     "output_type": "stream",
     "name": "stdout",
     "text": [
      "(6.6035928143712574, 8.221556886227544)\n"
     ]
    }
   ],
   "metadata": {}
  },
  {
   "cell_type": "code",
   "execution_count": 116,
   "source": [
    "def paragraph_kernel_selection(width, height):\n",
    "    mean = min(width, height)\n",
    "\n",
    "    floor  = np.floor(mean)\n",
    "    odd_floor = floor if floor % 2 == 1 else floor - 1\n",
    "\n",
    "    ceil  = np.ceil(mean)\n",
    "    odd_ceil = ceil if ceil % 2 == 1 else ceil + 1\n",
    "\n",
    "    _kernel_dim =  np.uint8(odd_floor) if abs(mean - odd_floor) < abs(mean - odd_ceil) else np.uint8(odd_ceil)\n",
    "    _kernel_dim = _kernel_dim - 2 if _kernel_dim >= 9 else _kernel_dim\n",
    "\n",
    "    return np.ones((_kernel_dim, _kernel_dim), np.uint8)"
   ],
   "outputs": [],
   "metadata": {}
  },
  {
   "cell_type": "markdown",
   "source": [
    "## Stage 2: smoothing paragraphs"
   ],
   "metadata": {}
  },
  {
   "cell_type": "code",
   "execution_count": 117,
   "source": [
    "dst = cv2.filter2D(\n",
    "    img,\n",
    "    -1, \n",
    "    paragraph_kernel_selection(width, height)\n",
    ")\n",
    "dst = cv2.erode(dst, np.ones((3,3), np.uint8),iterations = 1)\n",
    "\n",
    "\n",
    "black(dst, 200)"
   ],
   "outputs": [
    {
     "output_type": "execute_result",
     "data": {
      "text/plain": [
       "array([[0, 0, 0, ..., 0, 0, 0],\n",
       "       [0, 0, 0, ..., 0, 0, 0],\n",
       "       [0, 0, 0, ..., 0, 0, 0],\n",
       "       ...,\n",
       "       [0, 0, 0, ..., 0, 0, 0],\n",
       "       [0, 0, 0, ..., 0, 0, 0],\n",
       "       [0, 0, 0, ..., 0, 0, 0]], dtype=uint8)"
      ]
     },
     "metadata": {},
     "execution_count": 117
    }
   ],
   "metadata": {}
  },
  {
   "cell_type": "markdown",
   "source": [
    "# Step 2: Create paragraph boxes"
   ],
   "metadata": {}
  },
  {
   "cell_type": "code",
   "execution_count": 118,
   "source": [
    "dataset = pd.DataFrame(dst).stack().reset_index().rename({'level_0': 'y', 'level_1': 'x', 0: 'brightness'}, axis=1)\n",
    "dataset = dataset[dataset.brightness > 20]\n",
    "dataset"
   ],
   "outputs": [
    {
     "output_type": "execute_result",
     "data": {
      "text/html": [
       "<div>\n",
       "<style scoped>\n",
       "    .dataframe tbody tr th:only-of-type {\n",
       "        vertical-align: middle;\n",
       "    }\n",
       "\n",
       "    .dataframe tbody tr th {\n",
       "        vertical-align: top;\n",
       "    }\n",
       "\n",
       "    .dataframe thead th {\n",
       "        text-align: right;\n",
       "    }\n",
       "</style>\n",
       "<table border=\"1\" class=\"dataframe\">\n",
       "  <thead>\n",
       "    <tr style=\"text-align: right;\">\n",
       "      <th></th>\n",
       "      <th>y</th>\n",
       "      <th>x</th>\n",
       "      <th>brightness</th>\n",
       "    </tr>\n",
       "  </thead>\n",
       "  <tbody>\n",
       "    <tr>\n",
       "      <th>1845</th>\n",
       "      <td>7</td>\n",
       "      <td>39</td>\n",
       "      <td>255</td>\n",
       "    </tr>\n",
       "    <tr>\n",
       "      <th>1846</th>\n",
       "      <td>7</td>\n",
       "      <td>40</td>\n",
       "      <td>255</td>\n",
       "    </tr>\n",
       "    <tr>\n",
       "      <th>1847</th>\n",
       "      <td>7</td>\n",
       "      <td>41</td>\n",
       "      <td>255</td>\n",
       "    </tr>\n",
       "    <tr>\n",
       "      <th>1848</th>\n",
       "      <td>7</td>\n",
       "      <td>42</td>\n",
       "      <td>255</td>\n",
       "    </tr>\n",
       "    <tr>\n",
       "      <th>1849</th>\n",
       "      <td>7</td>\n",
       "      <td>43</td>\n",
       "      <td>255</td>\n",
       "    </tr>\n",
       "    <tr>\n",
       "      <th>...</th>\n",
       "      <td>...</td>\n",
       "      <td>...</td>\n",
       "      <td>...</td>\n",
       "    </tr>\n",
       "    <tr>\n",
       "      <th>130929</th>\n",
       "      <td>507</td>\n",
       "      <td>123</td>\n",
       "      <td>255</td>\n",
       "    </tr>\n",
       "    <tr>\n",
       "      <th>130930</th>\n",
       "      <td>507</td>\n",
       "      <td>124</td>\n",
       "      <td>255</td>\n",
       "    </tr>\n",
       "    <tr>\n",
       "      <th>130931</th>\n",
       "      <td>507</td>\n",
       "      <td>125</td>\n",
       "      <td>255</td>\n",
       "    </tr>\n",
       "    <tr>\n",
       "      <th>130932</th>\n",
       "      <td>507</td>\n",
       "      <td>126</td>\n",
       "      <td>255</td>\n",
       "    </tr>\n",
       "    <tr>\n",
       "      <th>130933</th>\n",
       "      <td>507</td>\n",
       "      <td>127</td>\n",
       "      <td>255</td>\n",
       "    </tr>\n",
       "  </tbody>\n",
       "</table>\n",
       "<p>101586 rows × 3 columns</p>\n",
       "</div>"
      ],
      "text/plain": [
       "          y    x  brightness\n",
       "1845      7   39         255\n",
       "1846      7   40         255\n",
       "1847      7   41         255\n",
       "1848      7   42         255\n",
       "1849      7   43         255\n",
       "...     ...  ...         ...\n",
       "130929  507  123         255\n",
       "130930  507  124         255\n",
       "130931  507  125         255\n",
       "130932  507  126         255\n",
       "130933  507  127         255\n",
       "\n",
       "[101586 rows x 3 columns]"
      ]
     },
     "metadata": {},
     "execution_count": 118
    }
   ],
   "metadata": {}
  },
  {
   "cell_type": "code",
   "execution_count": 119,
   "source": [
    "epsilon = 2\n",
    "\n",
    "clustered = dataset.copy()\n",
    "\n",
    "clustering = DBSCAN(eps=epsilon, min_samples=10).fit(dataset.loc[:, ['y', 'x']])\n",
    "clustered['cluster'] = clustering.labels_\n"
   ],
   "outputs": [],
   "metadata": {}
  },
  {
   "cell_type": "code",
   "execution_count": 120,
   "source": [
    "raw_clusters = clustered.groupby('cluster').agg({'x': ['min', 'max'], 'y': ['min', 'max']}, axis=1)\n",
    "raw_clusters = pd.concat([raw_clusters.x, raw_clusters.y], axis=1)\n",
    "raw_clusters.columns = ['x1', 'y1', 'x2', 'y2']"
   ],
   "outputs": [],
   "metadata": {}
  },
  {
   "cell_type": "code",
   "execution_count": 121,
   "source": [
    "len(raw_clusters)"
   ],
   "outputs": [
    {
     "output_type": "execute_result",
     "data": {
      "text/plain": [
       "11"
      ]
     },
     "metadata": {},
     "execution_count": 121
    }
   ],
   "metadata": {}
  },
  {
   "cell_type": "code",
   "execution_count": 122,
   "source": [
    "dst = inverse(dst)\n",
    "\n",
    "kernel_dim = 3\n",
    "\n",
    "raw = 255*np.ones((original_img.shape), np.uint8)\n",
    "\n",
    "for rect in raw_clusters.values:\n",
    "    x1, y1, x2, y2 = rect\n",
    "    cv2.rectangle(raw, (y1, y2), (x1, x2), 0, 1)\n",
    "\n",
    "raw = inverse(raw)"
   ],
   "outputs": [],
   "metadata": {}
  },
  {
   "cell_type": "markdown",
   "source": [
    "# Step 3: Cluster pruning"
   ],
   "metadata": {}
  },
  {
   "cell_type": "markdown",
   "source": [
    "## Stage 1: Unite close clusters"
   ],
   "metadata": {}
  },
  {
   "cell_type": "code",
   "execution_count": 123,
   "source": [
    "dataset = pd.DataFrame(raw).stack().reset_index().rename({'level_0': 'y', 'level_1': 'x', 0: 'brightness'}, axis=1)\n",
    "dataset = dataset[dataset.brightness > 20]\n",
    "dataset"
   ],
   "outputs": [
    {
     "output_type": "execute_result",
     "data": {
      "text/html": [
       "<div>\n",
       "<style scoped>\n",
       "    .dataframe tbody tr th:only-of-type {\n",
       "        vertical-align: middle;\n",
       "    }\n",
       "\n",
       "    .dataframe tbody tr th {\n",
       "        vertical-align: top;\n",
       "    }\n",
       "\n",
       "    .dataframe thead th {\n",
       "        text-align: right;\n",
       "    }\n",
       "</style>\n",
       "<table border=\"1\" class=\"dataframe\">\n",
       "  <thead>\n",
       "    <tr style=\"text-align: right;\">\n",
       "      <th></th>\n",
       "      <th>y</th>\n",
       "      <th>x</th>\n",
       "      <th>brightness</th>\n",
       "    </tr>\n",
       "  </thead>\n",
       "  <tbody>\n",
       "    <tr>\n",
       "      <th>1808</th>\n",
       "      <td>7</td>\n",
       "      <td>2</td>\n",
       "      <td>255</td>\n",
       "    </tr>\n",
       "    <tr>\n",
       "      <th>1809</th>\n",
       "      <td>7</td>\n",
       "      <td>3</td>\n",
       "      <td>255</td>\n",
       "    </tr>\n",
       "    <tr>\n",
       "      <th>1810</th>\n",
       "      <td>7</td>\n",
       "      <td>4</td>\n",
       "      <td>255</td>\n",
       "    </tr>\n",
       "    <tr>\n",
       "      <th>1811</th>\n",
       "      <td>7</td>\n",
       "      <td>5</td>\n",
       "      <td>255</td>\n",
       "    </tr>\n",
       "    <tr>\n",
       "      <th>1812</th>\n",
       "      <td>7</td>\n",
       "      <td>6</td>\n",
       "      <td>255</td>\n",
       "    </tr>\n",
       "    <tr>\n",
       "      <th>...</th>\n",
       "      <td>...</td>\n",
       "      <td>...</td>\n",
       "      <td>...</td>\n",
       "    </tr>\n",
       "    <tr>\n",
       "      <th>130929</th>\n",
       "      <td>507</td>\n",
       "      <td>123</td>\n",
       "      <td>255</td>\n",
       "    </tr>\n",
       "    <tr>\n",
       "      <th>130930</th>\n",
       "      <td>507</td>\n",
       "      <td>124</td>\n",
       "      <td>255</td>\n",
       "    </tr>\n",
       "    <tr>\n",
       "      <th>130931</th>\n",
       "      <td>507</td>\n",
       "      <td>125</td>\n",
       "      <td>255</td>\n",
       "    </tr>\n",
       "    <tr>\n",
       "      <th>130932</th>\n",
       "      <td>507</td>\n",
       "      <td>126</td>\n",
       "      <td>255</td>\n",
       "    </tr>\n",
       "    <tr>\n",
       "      <th>130933</th>\n",
       "      <td>507</td>\n",
       "      <td>127</td>\n",
       "      <td>255</td>\n",
       "    </tr>\n",
       "  </tbody>\n",
       "</table>\n",
       "<p>3718 rows × 3 columns</p>\n",
       "</div>"
      ],
      "text/plain": [
       "          y    x  brightness\n",
       "1808      7    2         255\n",
       "1809      7    3         255\n",
       "1810      7    4         255\n",
       "1811      7    5         255\n",
       "1812      7    6         255\n",
       "...     ...  ...         ...\n",
       "130929  507  123         255\n",
       "130930  507  124         255\n",
       "130931  507  125         255\n",
       "130932  507  126         255\n",
       "130933  507  127         255\n",
       "\n",
       "[3718 rows x 3 columns]"
      ]
     },
     "metadata": {},
     "execution_count": 123
    }
   ],
   "metadata": {}
  },
  {
   "cell_type": "markdown",
   "source": [
    "Here:\n",
    "\n",
    "[epsilon_2 = min(width, height) / 1.8] is a heuristic, manualy balanced inter cluster max range (our paragraphs won't have bigger distances within one cluster) "
   ],
   "metadata": {}
  },
  {
   "cell_type": "code",
   "execution_count": 124,
   "source": [
    "clustered = dataset.copy()\n",
    "\n",
    "epsilon_2 = min(width, height) / 1.8\n",
    "\n",
    "clustering = DBSCAN(eps=epsilon_2, min_samples=4).fit(dataset.loc[:, ['y', 'x']])\n",
    "clustered['cluster'] = clustering.labels_\n",
    "print(clustered.cluster.nunique())"
   ],
   "outputs": [
    {
     "output_type": "stream",
     "name": "stdout",
     "text": [
      "10\n"
     ]
    }
   ],
   "metadata": {}
  },
  {
   "cell_type": "code",
   "execution_count": 125,
   "source": [
    "raw_clusters = clustered.groupby('cluster').agg({'x': ['min', 'max'], 'y': ['min', 'max']}, axis=1)\n",
    "raw_clusters = pd.concat([raw_clusters.x, raw_clusters.y], axis=1)\n",
    "raw_clusters.columns = ['x1', 'x2', 'y1', 'y2']"
   ],
   "outputs": [],
   "metadata": {}
  },
  {
   "cell_type": "markdown",
   "source": [
    "## Stage 2: Cluster inside cluster issue"
   ],
   "metadata": {}
  },
  {
   "cell_type": "code",
   "execution_count": 126,
   "source": [
    "raw_clusters['shape'] = abs(raw_clusters['x1'] - raw_clusters['x2']) * abs(raw_clusters['y1'] - raw_clusters['y2'])\n",
    "raw_clusters.sort_values('shape', inplace=True, ascending=False)"
   ],
   "outputs": [],
   "metadata": {}
  },
  {
   "cell_type": "markdown",
   "source": [
    "Simple algo. Sort clusters by thier area. For each cluter if their mass center is available on matrix and then fill it's area "
   ],
   "metadata": {}
  },
  {
   "cell_type": "code",
   "execution_count": 127,
   "source": [
    "cluster_list = []\n",
    "mask = np.zeros(original_img.shape, np.uint8)\n",
    "\n",
    "for cluster in raw_clusters.values:\n",
    "    \n",
    "    x_mass = (cluster[0] + cluster[1]) // 2\n",
    "    y_mass = (cluster[2] + cluster[3]) // 2\n",
    "\n",
    "    if mask[y_mass][x_mass] == 0:\n",
    "        cluster_list.append(cluster[:-1])\n",
    "        cv2.rectangle(mask, (cluster[1], cluster[3]), (cluster[0], cluster[2]), 255, -1)"
   ],
   "outputs": [],
   "metadata": {}
  },
  {
   "cell_type": "code",
   "execution_count": 128,
   "source": [
    "final_clusters = pd.DataFrame(cluster_list).rename({0:'x1', 1:'x2', 2:'y1', 3:'y2'}, axis=1)"
   ],
   "outputs": [],
   "metadata": {}
  },
  {
   "cell_type": "markdown",
   "source": [
    "# Step 4: Add some order"
   ],
   "metadata": {}
  },
  {
   "cell_type": "code",
   "execution_count": 129,
   "source": [
    "final_clusters['id'] = final_clusters.index\n",
    "final_clusters['x_mass'] = (final_clusters['x2'] + final_clusters['x1']) / 2\n",
    "final_clusters['y_mass'] = (final_clusters['y2'] + final_clusters['y1']) / 2\n",
    "final_clusters['P_polar'] = (final_clusters['x1'] ** 2) + (final_clusters['y1'] ** 2)\n",
    "\n",
    "final_clusters['order'] = final_clusters.sort_values('P_polar').reset_index().drop('index', axis=1).index"
   ],
   "outputs": [],
   "metadata": {}
  },
  {
   "cell_type": "code",
   "execution_count": 130,
   "source": [
    "final_clusters"
   ],
   "outputs": [
    {
     "output_type": "execute_result",
     "data": {
      "text/html": [
       "<div>\n",
       "<style scoped>\n",
       "    .dataframe tbody tr th:only-of-type {\n",
       "        vertical-align: middle;\n",
       "    }\n",
       "\n",
       "    .dataframe tbody tr th {\n",
       "        vertical-align: top;\n",
       "    }\n",
       "\n",
       "    .dataframe thead th {\n",
       "        text-align: right;\n",
       "    }\n",
       "</style>\n",
       "<table border=\"1\" class=\"dataframe\">\n",
       "  <thead>\n",
       "    <tr style=\"text-align: right;\">\n",
       "      <th></th>\n",
       "      <th>x1</th>\n",
       "      <th>x2</th>\n",
       "      <th>y1</th>\n",
       "      <th>y2</th>\n",
       "      <th>id</th>\n",
       "      <th>x_mass</th>\n",
       "      <th>y_mass</th>\n",
       "      <th>P_polar</th>\n",
       "      <th>order</th>\n",
       "    </tr>\n",
       "  </thead>\n",
       "  <tbody>\n",
       "    <tr>\n",
       "      <th>0</th>\n",
       "      <td>2</td>\n",
       "      <td>123</td>\n",
       "      <td>294</td>\n",
       "      <td>500</td>\n",
       "      <td>0</td>\n",
       "      <td>62.5</td>\n",
       "      <td>397.0</td>\n",
       "      <td>86440</td>\n",
       "      <td>0</td>\n",
       "    </tr>\n",
       "    <tr>\n",
       "      <th>1</th>\n",
       "      <td>123</td>\n",
       "      <td>250</td>\n",
       "      <td>354</td>\n",
       "      <td>507</td>\n",
       "      <td>1</td>\n",
       "      <td>186.5</td>\n",
       "      <td>430.5</td>\n",
       "      <td>140445</td>\n",
       "      <td>1</td>\n",
       "    </tr>\n",
       "    <tr>\n",
       "      <th>2</th>\n",
       "      <td>2</td>\n",
       "      <td>122</td>\n",
       "      <td>7</td>\n",
       "      <td>164</td>\n",
       "      <td>2</td>\n",
       "      <td>62.0</td>\n",
       "      <td>85.5</td>\n",
       "      <td>53</td>\n",
       "      <td>2</td>\n",
       "    </tr>\n",
       "    <tr>\n",
       "      <th>3</th>\n",
       "      <td>130</td>\n",
       "      <td>250</td>\n",
       "      <td>79</td>\n",
       "      <td>212</td>\n",
       "      <td>3</td>\n",
       "      <td>190.0</td>\n",
       "      <td>145.5</td>\n",
       "      <td>23141</td>\n",
       "      <td>3</td>\n",
       "    </tr>\n",
       "    <tr>\n",
       "      <th>4</th>\n",
       "      <td>130</td>\n",
       "      <td>251</td>\n",
       "      <td>222</td>\n",
       "      <td>343</td>\n",
       "      <td>4</td>\n",
       "      <td>190.5</td>\n",
       "      <td>282.5</td>\n",
       "      <td>66184</td>\n",
       "      <td>4</td>\n",
       "    </tr>\n",
       "    <tr>\n",
       "      <th>5</th>\n",
       "      <td>2</td>\n",
       "      <td>122</td>\n",
       "      <td>175</td>\n",
       "      <td>283</td>\n",
       "      <td>5</td>\n",
       "      <td>62.0</td>\n",
       "      <td>229.0</td>\n",
       "      <td>30629</td>\n",
       "      <td>5</td>\n",
       "    </tr>\n",
       "    <tr>\n",
       "      <th>6</th>\n",
       "      <td>130</td>\n",
       "      <td>251</td>\n",
       "      <td>7</td>\n",
       "      <td>68</td>\n",
       "      <td>6</td>\n",
       "      <td>190.5</td>\n",
       "      <td>37.5</td>\n",
       "      <td>16949</td>\n",
       "      <td>6</td>\n",
       "    </tr>\n",
       "    <tr>\n",
       "      <th>7</th>\n",
       "      <td>7</td>\n",
       "      <td>14</td>\n",
       "      <td>504</td>\n",
       "      <td>507</td>\n",
       "      <td>7</td>\n",
       "      <td>10.5</td>\n",
       "      <td>505.5</td>\n",
       "      <td>254065</td>\n",
       "      <td>7</td>\n",
       "    </tr>\n",
       "    <tr>\n",
       "      <th>8</th>\n",
       "      <td>32</td>\n",
       "      <td>36</td>\n",
       "      <td>505</td>\n",
       "      <td>507</td>\n",
       "      <td>8</td>\n",
       "      <td>34.0</td>\n",
       "      <td>506.0</td>\n",
       "      <td>256049</td>\n",
       "      <td>8</td>\n",
       "    </tr>\n",
       "  </tbody>\n",
       "</table>\n",
       "</div>"
      ],
      "text/plain": [
       "    x1   x2   y1   y2  id  x_mass  y_mass  P_polar  order\n",
       "0    2  123  294  500   0    62.5   397.0    86440      0\n",
       "1  123  250  354  507   1   186.5   430.5   140445      1\n",
       "2    2  122    7  164   2    62.0    85.5       53      2\n",
       "3  130  250   79  212   3   190.0   145.5    23141      3\n",
       "4  130  251  222  343   4   190.5   282.5    66184      4\n",
       "5    2  122  175  283   5    62.0   229.0    30629      5\n",
       "6  130  251    7   68   6   190.5    37.5    16949      6\n",
       "7    7   14  504  507   7    10.5   505.5   254065      7\n",
       "8   32   36  505  507   8    34.0   506.0   256049      8"
      ]
     },
     "metadata": {},
     "execution_count": 130
    }
   ],
   "metadata": {}
  },
  {
   "cell_type": "code",
   "execution_count": 131,
   "source": [
    "started = True\n",
    "x_prev, y_prev = None, None\n",
    "\n",
    "for rect in final_clusters.sort_values('order').values:\n",
    "    x1, y1, x2, y2 = rect[:4].astype(int)\n",
    "    x_mass, y_mass = rect[5:7].astype(int)\n",
    "    cv2.rectangle(original_img, (y1, y2), (x1, x2), 0, 1)\n",
    "\n",
    "\n",
    "    # if not started:\n",
    "    #     cv2.line(original_img, (x_mass, y_mass), (x_prev, y_prev), 0, 1)\n",
    "\n",
    "    # x_prev = x_mass\n",
    "    # y_prev = y_mass\n",
    "    \n",
    "    # started = False\n",
    "\n",
    "cv2.imwrite(OUT_NAME, original_img)\n"
   ],
   "outputs": [
    {
     "output_type": "stream",
     "name": "stdout",
     "text": [
      "0.0\n",
      "1.0\n",
      "2.0\n",
      "3.0\n",
      "4.0\n",
      "5.0\n",
      "6.0\n",
      "7.0\n",
      "8.0\n"
     ]
    },
    {
     "output_type": "execute_result",
     "data": {
      "text/plain": [
       "True"
      ]
     },
     "metadata": {},
     "execution_count": 131
    }
   ],
   "metadata": {}
  }
 ],
 "metadata": {
  "orig_nbformat": 4,
  "language_info": {
   "name": "python",
   "version": "3.8.10",
   "mimetype": "text/x-python",
   "codemirror_mode": {
    "name": "ipython",
    "version": 3
   },
   "pygments_lexer": "ipython3",
   "nbconvert_exporter": "python",
   "file_extension": ".py"
  },
  "kernelspec": {
   "name": "python3",
   "display_name": "Python 3.8.10 64-bit ('env': venv)"
  },
  "interpreter": {
   "hash": "6074b88476bdf03c96def3f5aeb59727035c3cb62a881a68391b949d36093171"
  }
 },
 "nbformat": 4,
 "nbformat_minor": 2
}